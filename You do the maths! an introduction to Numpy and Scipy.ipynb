{
 "cells": [
  {
   "cell_type": "markdown",
   "metadata": {
    "slideshow": {
     "slide_type": "slide"
    }
   },
   "source": [
    "# You Do the Maths With Numpy"
   ]
  },
  {
   "cell_type": "markdown",
   "metadata": {},
   "source": [
    "## Part 1: an introduction to the numpy array"
   ]
  },
  {
   "cell_type": "markdown",
   "metadata": {
    "slideshow": {
     "slide_type": "slide"
    }
   },
   "source": [
    "### What we already know\n",
    "- basic data types (ints, floats, strings, booleans)\n",
    "- Some functions and methods to manipulate these data types (i.e. type(), len(), str.upper())\n",
    "- where to put our data (Variables, Lists, Dictionaries\n",
    "- and how to manipulate and build these variables and lists\n",
    "- How to create, store, and use data in a dictionary\n",
    "- Use conditional statements to allow the computer to choose when to execute certain commands\n",
    "- use loops so that the computer can repeat the brilliant code you have written for it\n",
    "- Made your own functions!"
   ]
  },
  {
   "cell_type": "markdown",
   "metadata": {
    "slideshow": {
     "slide_type": "slide"
    }
   },
   "source": [
    "__Learning Objectives__:\n",
    "\n",
    "- learn how to use Numpy, and it's Flagship Product, the Numpy Array!\n",
    "    - Find out that it works a lot like a list\n",
    "    - It just happens to follow a few more rules\n",
    "- Learn how to slice and index numpy Arrays\n",
    "- Learn how to build multidimensional Arrays\n",
    "- Learn how Numpy adds arrays of different shapes via Broadcasting\n",
    "- Google some Numpy Methods\n",
    "    "
   ]
  },
  {
   "cell_type": "markdown",
   "metadata": {
    "slideshow": {
     "slide_type": "slide"
    }
   },
   "source": [
    "### Lists are kind of like excel columns Right? \n",
    "Wouldn't it be nice to just add the elements of our lists together?"
   ]
  },
  {
   "cell_type": "code",
   "execution_count": null,
   "metadata": {
    "collapsed": true,
    "slideshow": {
     "slide_type": "fragment"
    }
   },
   "outputs": [],
   "source": [
    "# lets just add these two guys together\n",
    "xs = [1,2,3,4,5]\n",
    "ys = [100,200,300,400,500]\n",
    "xs+ys"
   ]
  },
  {
   "cell_type": "markdown",
   "metadata": {
    "slideshow": {
     "slide_type": "fragment"
    }
   },
   "source": [
    "uh oh! looks like + just means append the two lists together in python"
   ]
  },
  {
   "cell_type": "code",
   "execution_count": null,
   "metadata": {
    "collapsed": true,
    "slideshow": {
     "slide_type": "fragment"
    }
   },
   "outputs": [],
   "source": [
    "\"kind of \"+\"like\"+\" strings!\""
   ]
  },
  {
   "cell_type": "markdown",
   "metadata": {},
   "source": [
    "** We could use a for loop **"
   ]
  },
  {
   "cell_type": "code",
   "execution_count": null,
   "metadata": {
    "collapsed": true
   },
   "outputs": [],
   "source": [
    "xs = [1,2,3,4,5]\n",
    "ys = [100,200,300,400,500]\n",
    "zs = []\n",
    "for x in range(len(xs)-1):\n",
    "    z = xs[x]+ys[x]\n",
    "    zs.append(z)\n",
    "    \n",
    "print(zs)"
   ]
  },
  {
   "cell_type": "code",
   "execution_count": null,
   "metadata": {
    "collapsed": true,
    "slideshow": {
     "slide_type": "slide"
    }
   },
   "outputs": [],
   "source": [
    "#or a one liner list comprehension\n",
    "z = [x+y for x, y in zip(xs,ys)]\n",
    "z"
   ]
  },
  {
   "cell_type": "markdown",
   "metadata": {
    "slideshow": {
     "slide_type": "fragment"
    }
   },
   "source": [
    "#### Opinion: I find that bloody annoying, and not as easy to read as a + b"
   ]
  },
  {
   "cell_type": "markdown",
   "metadata": {},
   "source": [
    "- and since Python is just as much about readibility and ease\n",
    "- Much smarter people than I have invented numpy to make Python Maths Great again!!"
   ]
  },
  {
   "cell_type": "code",
   "execution_count": 9,
   "metadata": {
    "slideshow": {
     "slide_type": "slide"
    }
   },
   "outputs": [],
   "source": [
    "\n",
    "import numpy as np # Note the as np part means I have given this package a nickname"
   ]
  },
  {
   "cell_type": "markdown",
   "metadata": {},
   "source": [
    "## Introducing the numpy Array"
   ]
  },
  {
   "cell_type": "markdown",
   "metadata": {},
   "source": [
    "The numpy.array() method coerces a data object into a numpy array, you can chuck a list in there to get a numpy array"
   ]
  },
  {
   "cell_type": "code",
   "execution_count": null,
   "metadata": {
    "collapsed": true,
    "slideshow": {
     "slide_type": "fragment"
    }
   },
   "outputs": [],
   "source": [
    "xar = np.array(xs)\n",
    "yar = np.array(ys)\n",
    "\n",
    "zar = xar+yar\n",
    "\n",
    "zar"
   ]
  },
  {
   "cell_type": "markdown",
   "metadata": {},
   "source": [
    "### Numpy arrays are Python's package for doing vectorized mathematics and operations"
   ]
  },
  {
   "cell_type": "markdown",
   "metadata": {},
   "source": [
    "**Vector** is just an ordered stack of numbers to crunch, where as base Python can only do math with ** Scalars** or individual Numbers"
   ]
  },
  {
   "cell_type": "markdown",
   "metadata": {},
   "source": [
    "![](Pictures/vectorized_maths.png)"
   ]
  },
  {
   "cell_type": "markdown",
   "metadata": {},
   "source": [
    "**However,** numpy arrays have more rules to live by, i.e. they really need all of the same data type to be useful"
   ]
  },
  {
   "cell_type": "code",
   "execution_count": null,
   "metadata": {
    "collapsed": true,
    "slideshow": {
     "slide_type": "slide"
    }
   },
   "outputs": [],
   "source": [
    "\n",
    "test = [1,2,'3']\n",
    "test_ar = np.array(test)\n",
    "\n",
    "print('type for item 0 = ', type(test_ar[0]), 'however in the list it is still a',type(test[0]))\n",
    "print('type for item 2 = ', type(test_ar[2]),'however in the list it is still a',type(test[2]))"
   ]
  },
  {
   "cell_type": "markdown",
   "metadata": {
    "slideshow": {
     "slide_type": "slide"
    }
   },
   "source": [
    "### Numpy Arrays have lots of bells and whistles, but the cost is that they must follow some more rules than a list"
   ]
  },
  {
   "cell_type": "markdown",
   "metadata": {},
   "source": [
    "** Pros**: \n",
    "- Element wise mathematics\n",
    "- Multiple Dimensions\n",
    "- smaller data file sizes usually\n",
    "\n",
    "\n",
    "** Cons **\n",
    "- Entries are coerced into one datatype\n",
    "- not  as flexible as a List\n",
    "- Numpy has its own brand of numbers and string data types, I recommend coercing everything into a numpy data type to avoid problems"
   ]
  },
  {
   "cell_type": "markdown",
   "metadata": {},
   "source": [
    "### Numpy Data Types\n",
    "- int32, int64\n",
    "- float32, float64\n",
    "- np.str"
   ]
  },
  {
   "cell_type": "code",
   "execution_count": null,
   "metadata": {
    "collapsed": true
   },
   "outputs": [],
   "source": [
    "# we can force this data type to be numbers, and umpy will successfully coerce it into being a number,hurray!!\n",
    "test = [1,2,'3']\n",
    "test_ar = np.array(test, dtype = np.int64)\n",
    "type(test_ar[0])"
   ]
  },
  {
   "cell_type": "markdown",
   "metadata": {},
   "source": [
    "** Making of a numpy  Array**"
   ]
  },
  {
   "cell_type": "code",
   "execution_count": null,
   "metadata": {
    "collapsed": true
   },
   "outputs": [],
   "source": [
    "#from a list\n",
    "a_ar = np.array([1,2,3,4])\n",
    "print('list to array', a_ar)\n",
    "#from a myriad of array generating functions in Numpy\n",
    "\n",
    "nil_ar = np.zeros(4)\n",
    "print('array of emu eggs',nil_ar, 'of shape %i and data type' %(nil_ar.shape), nil_ar.dtype)\n",
    "\n",
    "range_ar =np.arange(3,13,3)\n",
    "print('numpys version of a range with a spacing of 3',range_ar)"
   ]
  },
  {
   "cell_type": "markdown",
   "metadata": {},
   "source": [
    "** Just like lists**\n",
    "- They are mutable\n",
    "- iterable\n",
    "- indexible\n",
    "- and need to be copied properly!!"
   ]
  },
  {
   "cell_type": "code",
   "execution_count": null,
   "metadata": {
    "collapsed": true
   },
   "outputs": [],
   "source": [
    "#making a new nickname for \n",
    "nil_copy = nil_ar\n",
    "\n",
    "#making an actual copy\n",
    "nil_real_copy = nil_ar.copy()\n",
    "\n",
    "nil_ar[0] = 2\n",
    "\n",
    "for nils in nil_ar:\n",
    "    if nils >0:\n",
    "        print(nils)\n",
    "\n",
    "print('original array',nil_ar)\n",
    "print('fake copy',nil_copy)\n",
    "print('real copy',nil_real_copy)\n"
   ]
  },
  {
   "cell_type": "markdown",
   "metadata": {},
   "source": [
    "**And...** you can  slice it up just like a list, the result of each slice is a numpy array"
   ]
  },
  {
   "cell_type": "code",
   "execution_count": null,
   "metadata": {
    "collapsed": true,
    "slideshow": {
     "slide_type": "slide"
    }
   },
   "outputs": [],
   "source": [
    "\n",
    "range_ar[:-1]-a_ar[0:-1]"
   ]
  },
  {
   "cell_type": "markdown",
   "metadata": {},
   "source": [
    "### with improved slicing\n",
    "- via start:stop:step"
   ]
  },
  {
   "cell_type": "code",
   "execution_count": null,
   "metadata": {
    "collapsed": true
   },
   "outputs": [],
   "source": [
    "test_range = np.arange(20)\n",
    "print('full array', test_range)\n",
    "print('every third element between the 1st and the 15th elements:', test_range[4:15:3])\n",
    "print('stepping through the entire vector every 5th element', test_range[::5])"
   ]
  },
  {
   "cell_type": "markdown",
   "metadata": {},
   "source": [
    "### You can even \"slice\" with a list of indices\n",
    "\n",
    "array[[1,2,8,9]]"
   ]
  },
  {
   "cell_type": "code",
   "execution_count": null,
   "metadata": {
    "collapsed": true
   },
   "outputs": [],
   "source": [
    "print(' full range', test_range)\n",
    "print('3rd, 7th, 11th, 13th, and 17th elements selected', test_range[[3,7,11,13,17]])\n"
   ]
  },
  {
   "cell_type": "markdown",
   "metadata": {},
   "source": [
    "### Now lets show how they are not like lists:\n",
    "- They have different issues with pet_peeve 2, in order to save data\n",
    "- They can have multiple dimensions"
   ]
  },
  {
   "cell_type": "markdown",
   "metadata": {},
   "source": [
    "### `Pet_peeve[2]` Revisited - *Copying* arrays vs *viewing* arrays"
   ]
  },
  {
   "attachments": {
    "image.png": {
     "image/png": "[encoded data removed]"
    }
   },
   "cell_type": "markdown",
   "metadata": {
    "slideshow": {
     "slide_type": "slide"
    }
   },
   "source": [
    "#### Depending on how you slice an array, you may be making a VIEW and not a COPY of the array.\n",
    "![image.png](attachment:image.png)\n",
    "\n",
    "https://www.jessicayung.com/numpy-views-vs-copies-avoiding-costly-mistakes/"
   ]
  },
  {
   "cell_type": "markdown",
   "metadata": {},
   "source": [
    " **With Lists list[:] and list.copy() both work**"
   ]
  },
  {
   "cell_type": "code",
   "execution_count": 7,
   "metadata": {},
   "outputs": [
    {
     "name": "stdout",
     "output_type": "stream",
     "text": [
      "odds: [1, 100, 3, 4] and \n",
      "odds2: [1, 100, 3, 4] \n",
      "both change\n",
      "while..\n",
      "odds3: [1, 2, 3, 4] and \n",
      "odds4: [1, 2, 3, 4] \n",
      "dont change change\n"
     ]
    }
   ],
   "source": [
    "odds = [1,2,3,4]\n",
    "\n",
    "odds2 = odds # THis does not create a copy\n",
    "\n",
    "odds3 = odds[:] \n",
    "odds4 = odds.copy()\n",
    "\n",
    "odds[1] = 100\n",
    "\n",
    "print('odds:', odds, 'and \\nodds2:', odds2, '\\nboth change')\n",
    "print('while..\\nodds3:',odds3, 'and \\nodds4:', odds4, \"\\ndon't change\")"
   ]
  },
  {
   "cell_type": "markdown",
   "metadata": {},
   "source": [
    "**With Numpy Arrays array[:] DOES NOT WORK, use array.copy()**"
   ]
  },
  {
   "cell_type": "code",
   "execution_count": 12,
   "metadata": {},
   "outputs": [
    {
     "name": "stdout",
     "output_type": "stream",
     "text": [
      "odds: [  1 100   3   4] and \n",
      "odds2: [  1 100   3   4] \n",
      "both change\n",
      "while..\n",
      "odds3: [  1 100   3   4] ALSO changes because its a view of odds 1 and\n",
      "odds4: [1 2 3 4] \n",
      "doesn't change change\n"
     ]
    }
   ],
   "source": [
    "odds = np.array([1,2,3,4])\n",
    "\n",
    "odds2 = odds # THis does not create a copy\n",
    "\n",
    "odds3 = odds[:] \n",
    "odds4 = odds.copy()\n",
    "\n",
    "odds[1] = 100\n",
    "\n",
    "print('odds:', odds, 'and \\nodds2:', odds2, '\\nboth change')\n",
    "print('while..\\nodds3:',odds3, 'ALSO changes because its a view of odds 1 and\\nodds4:', odds4, \"\\ndoesn't change change\")"
   ]
  },
  {
   "cell_type": "markdown",
   "metadata": {},
   "source": [
    "#### How do I figure out if I made a view or a copy? check the base\n",
    "syntax:\n",
    "```python\n",
    "possible_view_array.base is original_array = True or False\n",
    "```"
   ]
  },
  {
   "cell_type": "code",
   "execution_count": 23,
   "metadata": {},
   "outputs": [
    {
     "name": "stdout",
     "output_type": "stream",
     "text": [
      "is odds2 a view?: True . Not a view? its actually the same thing:  True\n",
      "is odds3 a view?: True\n",
      "is odds4 a view?: False\n"
     ]
    },
    {
     "data": {
      "text/plain": [
       "False"
      ]
     },
     "execution_count": 23,
     "metadata": {},
     "output_type": "execute_result"
    }
   ],
   "source": [
    "odds = np.array([1,2,3,4])\n",
    "\n",
    "odds2 = odds\n",
    "odds3 = odds[:] \n",
    "odds4 = odds.copy()\n",
    "\n",
    "print('is odds2 a view?:',odds3.base is odds, '. Not a view? its actually the same thing: ',id(odds2) == id(odds))\n",
    "print('is odds3 a view?:',odds3.base is odds)\n",
    "print('is odds4 a view?:',odds4.base is odds)\n",
    "\n",
    "odds5 = odds3 <4\n",
    "\n",
    "odds6 = odds3[odds5]\n",
    "\n",
    "odds6.base is odds3"
   ]
  },
  {
   "cell_type": "markdown",
   "metadata": {},
   "source": [
    "#### When are views made instead of new arrays?\n",
    "<style>\n",
    "td {\n",
    "  font-size: 50px\n",
    "}\n",
    "</style>\n",
    "\n",
    "|Actions that create views|Actions that create copies|\n",
    "|:------------------------|-------------------------:|\n",
    "|- Normal indexing and slicing(`array[0], array[1:5]`)|- Fancy indexing(with a list or a tuple i.e. (`array[[0], array[(1,4,5)]`)|\n",
    "|- certain special methods `ndarray.ravel()`| - other methods that do this `ndarray.flatten()`|\n",
    "|-|- changing datatype with array.astype('float64')|\n",
    "|-|- filtering data with booleans (we will cover this later|\n",
    "\n",
    "\n",
    "For more information, check this blog: https://www.jessicayung.com/numpy-views-vs-copies-avoiding-costly-mistakes/"
   ]
  },
  {
   "cell_type": "markdown",
   "metadata": {},
   "source": [
    "###  Moving away from Lists: our first multidimensional array hurray!\n",
    "- THis is great for gridded data (i.e. images, rasters and GIS data etc)"
   ]
  },
  {
   "cell_type": "code",
   "execution_count": null,
   "metadata": {
    "collapsed": true
   },
   "outputs": [],
   "source": [
    "# kind of like nested lists\n",
    "\n",
    "nest = [[1,2,3],[4,5,6],[7,8,9]]\n",
    "print(nest[1][2])\n",
    "\n",
    "nest_array = np.array(nest)\n",
    "print(nest_array[1,2])\n",
    "print(nest_array.shape, 'is the shape of the array')\n",
    "nest_array"
   ]
  },
  {
   "cell_type": "markdown",
   "metadata": {},
   "source": [
    "### We can have almost as many dimensions as we want and essentially access them with an index along each \n",
    "basically have one set of indices for the columns and the rows (in green) in order to pick out our data\n",
    "![](Pictures/multi_dim_array.png)"
   ]
  },
  {
   "cell_type": "markdown",
   "metadata": {},
   "source": [
    "### Key syntax\n",
    " Its just like indexing or slicing a list, but each dimension needs its own slicing commands\n",
    " \n",
    "- example_array[dimension 0 index or slice, dimension 1 index or slice,....., dimension n index or slice]\n"
   ]
  },
  {
   "cell_type": "code",
   "execution_count": null,
   "metadata": {
    "collapsed": true
   },
   "outputs": [],
   "source": [
    "print(nest_array)\n",
    "nest_array[1:,0:2]"
   ]
  },
  {
   "cell_type": "markdown",
   "metadata": {},
   "source": [
    "### Challenge set 1:\n",
    "We are going to slice up this numpy dataset a few different ways:"
   ]
  },
  {
   "cell_type": "code",
   "execution_count": null,
   "metadata": {
    "collapsed": true
   },
   "outputs": [],
   "source": [
    "# numpy has a pretty nice function to upload files\n",
    "rando_data = np.loadtxt('rando_data.csv',delimiter = ',')"
   ]
  },
  {
   "cell_type": "code",
   "execution_count": null,
   "metadata": {},
   "outputs": [],
   "source": [
    "rando_data.shape"
   ]
  },
  {
   "cell_type": "markdown",
   "metadata": {},
   "source": [
    "#### Lets have a look and sneakily teach you some plotting ;)\n",
    "\n",
    "- With ```pyplot.imshow()```, it is the easiest way to quickly throw up a heat map of a 2D array"
   ]
  },
  {
   "cell_type": "code",
   "execution_count": null,
   "metadata": {
    "collapsed": true
   },
   "outputs": [],
   "source": [
    "import matplotlib.pyplot as plt\n",
    "%matplotlib inline\n",
    "\n",
    "plt.imshow(rando_data)"
   ]
  },
  {
   "cell_type": "markdown",
   "metadata": {},
   "source": [
    "**1.1** whats the datatype of the elements in our rando data? "
   ]
  },
  {
   "cell_type": "code",
   "execution_count": null,
   "metadata": {
    "collapsed": true
   },
   "outputs": [],
   "source": []
  },
  {
   "cell_type": "markdown",
   "metadata": {},
   "source": [
    "**1.2** - slice the 15th row into a 1-D vector, and find the maximum value (hint look up np.max()) ***extra credit*** did we create a copy or a view when we took the 15th row of the vector?"
   ]
  },
  {
   "cell_type": "code",
   "execution_count": null,
   "metadata": {
    "collapsed": true
   },
   "outputs": [],
   "source": []
  },
  {
   "cell_type": "markdown",
   "metadata": {},
   "source": [
    "**1.3** - create a subarray of every 3rd row (0th dimension) and 4th column (first dimension), what is the shape?  ***extra credit*** did we create a copy or a view?"
   ]
  },
  {
   "cell_type": "code",
   "execution_count": null,
   "metadata": {
    "collapsed": true
   },
   "outputs": [],
   "source": []
  },
  {
   "cell_type": "markdown",
   "metadata": {},
   "source": [
    "**1.4** - create a sub-array of the 10th, 13th, and 18th row (along dimension 0)   ***extra credit*** did we create a copy or a view?"
   ]
  },
  {
   "cell_type": "code",
   "execution_count": null,
   "metadata": {
    "collapsed": true
   },
   "outputs": [],
   "source": []
  },
  {
   "cell_type": "markdown",
   "metadata": {},
   "source": [
    "**1.5** - add the sub array from 1.2 and 1.5 together, what shape is it? ***extra credit*** did we create a copy or a view?"
   ]
  },
  {
   "cell_type": "code",
   "execution_count": null,
   "metadata": {
    "collapsed": true
   },
   "outputs": [],
   "source": []
  },
  {
   "cell_type": "markdown",
   "metadata": {},
   "source": [
    "## Part two: Broadcasting"
   ]
  },
  {
   "cell_type": "markdown",
   "metadata": {},
   "source": [
    "** What we know already**\n",
    "- That we pretty much know how to use numpy arrays because they are just like lists\n",
    "- just need to be cognizant of the data types we put into our arrays\n",
    "- We learned how to slice a multidimensional array"
   ]
  },
  {
   "cell_type": "code",
   "execution_count": null,
   "metadata": {
    "collapsed": true
   },
   "outputs": [],
   "source": [
    "test1 = np.arange(8).reshape(2,4)\n",
    "test2 = np.arange(9,13)\n",
    "print(test1,'+', test2)\n",
    "test1+test2\n"
   ]
  },
  {
   "cell_type": "markdown",
   "metadata": {},
   "source": [
    "![](Pictures/broadcast_example.png)"
   ]
  },
  {
   "cell_type": "markdown",
   "metadata": {},
   "source": [
    "### General Broadcasting Rules\n",
    "When operating between Two arrays, Numpy compares the length of each axis or dimension, and can proceed with calculations if:\n",
    "- 1.) The two axis lengths are equal\n",
    "- 2.) one of the axis lengths is 1\n",
    "\n",
    "These two conditions must be satisfied along every axis\n",
    "\n",
    "In order to check you just need to line up the shapes of the two numpy arrays with the **Last axis** on the right:\n",
    "\n",
    "- I.E.\n",
    "    - Array 1 shape (4x5x8x1)\n",
    "    - Array 2 shape (8x3)\n",
    "    \n",
    "\n",
    "| **Array**  |  **dim[-4]** |  **dim[-3]** | **dim[-2]**  | **dim[-1]**  |\n",
    "|---|---|---|---|---|\n",
    "|Array 1   | 4  | 5  | 8  |  1 |\n",
    "|Array 2  |   |   |  8 |   3|\n",
    "|   |   |   |   |   |"
   ]
  },
  {
   "cell_type": "markdown",
   "metadata": {},
   "source": [
    "** Our example**\n",
    "\n",
    "- test1  (2d array) 2 x 4\n",
    "- test2  (1d array) (1)  x 4\n",
    "- result (2d array) 2 X 4"
   ]
  },
  {
   "cell_type": "markdown",
   "metadata": {},
   "source": [
    "** Challenge 2:** Gain an understanding of the broadcasting rules\n",
    "For each of the examples below, tell me what the resulting axes lengths will be of the operations"
   ]
  },
  {
   "cell_type": "markdown",
   "metadata": {},
   "source": [
    "- **2.1** a(4x3) + b(3,)\n",
    "- **2.2** A(15x3x5) + B(15x1x5)\n",
    "- **2.3** C(2x1) + D(8x4x3)\n",
    "- **2.4** E(4x3) + F(4,)\n",
    "- **2.5** G(4x3) +H(4x1)"
   ]
  },
  {
   "cell_type": "markdown",
   "metadata": {},
   "source": [
    "### changing the shapes of Arrays to make the Broadcasting work\n",
    "\n",
    "- array.reshape() method - where you can specify the lengths of each dimension you need\n",
    "- np.newaxis - an operator that  inserts a new length axis\n",
    "- inserting a None to create an empty axis"
   ]
  },
  {
   "cell_type": "code",
   "execution_count": null,
   "metadata": {
    "collapsed": true
   },
   "outputs": [],
   "source": [
    "## Looking at problems 2.4 and 2.5\n",
    "E = np.zeros((4,3))\n",
    "print(E)\n",
    "\n",
    "F = np.arange(4)\n",
    "\n",
    "print(F)\n",
    "E+F"
   ]
  },
  {
   "cell_type": "code",
   "execution_count": null,
   "metadata": {
    "collapsed": true
   },
   "outputs": [],
   "source": [
    "print(\"using reshape method)\",E+F.reshape(4,1))\n",
    "print('using np.newaxis', E+F[:,np.newaxis])\n",
    "print('using none',E+F[:,None])"
   ]
  },
  {
   "cell_type": "markdown",
   "metadata": {},
   "source": [
    "### Challange 2.6\n",
    "\n",
    "add two arrays  of dimensions (6,5,4) and of dimensions (6,4) together using broadcasting and changing shape as necessary"
   ]
  },
  {
   "cell_type": "code",
   "execution_count": null,
   "metadata": {
    "collapsed": true
   },
   "outputs": [],
   "source": [
    "I = np.zeros((6,5,4))\n",
    "J = np.random.randint(2,size=(6,4))\n",
    "\n"
   ]
  },
  {
   "cell_type": "code",
   "execution_count": null,
   "metadata": {
    "collapsed": true
   },
   "outputs": [],
   "source": [
    "# all these work\n"
   ]
  },
  {
   "cell_type": "code",
   "execution_count": null,
   "metadata": {
    "collapsed": true
   },
   "outputs": [],
   "source": []
  },
  {
   "cell_type": "markdown",
   "metadata": {},
   "source": [
    "### Part 3: Filtering out data using np.where and some logic"
   ]
  },
  {
   "cell_type": "code",
   "execution_count": null,
   "metadata": {
    "collapsed": true
   },
   "outputs": [],
   "source": [
    "L = np.array([1,2,3,4,5])\n",
    "\n",
    "L_bool = L >3\n",
    "L_bool"
   ]
  },
  {
   "cell_type": "code",
   "execution_count": null,
   "metadata": {
    "collapsed": true
   },
   "outputs": [],
   "source": [
    "#can use it to grab subsets of data, and to change parts of an array based on conditions\n",
    "L[L_bool] = 0\n",
    "\n",
    "L"
   ]
  },
  {
   "cell_type": "markdown",
   "metadata": {},
   "source": [
    "### np.where is the other way to do it but returns something slightly different"
   ]
  },
  {
   "cell_type": "code",
   "execution_count": null,
   "metadata": {
    "collapsed": true
   },
   "outputs": [],
   "source": [
    "L_nils = np.where(L is 0)\n",
    "L_nils"
   ]
  },
  {
   "cell_type": "markdown",
   "metadata": {},
   "source": [
    "** WTF happened here?**"
   ]
  },
  {
   "cell_type": "markdown",
   "metadata": {},
   "source": [
    "Python has multiple ways to do logic\n",
    "- is, and, or all do not do **elementwise** logical operations\n",
    "- you should use ==, !=. &, | (for elementwise or), ^ (for elementwise exclusive or)\n"
   ]
  },
  {
   "cell_type": "code",
   "execution_count": null,
   "metadata": {
    "collapsed": true
   },
   "outputs": [],
   "source": [
    "# the example above didn't work so here is:"
   ]
  },
  {
   "cell_type": "markdown",
   "metadata": {},
   "source": [
    "### Challenge 3.1:\n",
    "\n",
    "How many 0's are there in our rando_data?"
   ]
  },
  {
   "cell_type": "code",
   "execution_count": null,
   "metadata": {
    "collapsed": true
   },
   "outputs": [],
   "source": []
  },
  {
   "cell_type": "code",
   "execution_count": null,
   "metadata": {
    "collapsed": true
   },
   "outputs": [],
   "source": []
  },
  {
   "cell_type": "code",
   "execution_count": null,
   "metadata": {
    "collapsed": true
   },
   "outputs": [],
   "source": []
  },
  {
   "cell_type": "markdown",
   "metadata": {},
   "source": [
    "\n",
    "**Note:** that the where here returns a tuple of two integer arrays, the 0th item in the tuple is a list of the 0 axis indices\n",
    "of each cell where the condition is true, and the 1st item is an array of the 1st axis indices, that way when you put this\n",
    "tuple into the brackets to slice up your array, it slices it up as two arrays of indices\n"
   ]
  },
  {
   "cell_type": "markdown",
   "metadata": {},
   "source": [
    "### So what about Scipy?"
   ]
  },
  {
   "cell_type": "markdown",
   "metadata": {},
   "source": [
    "- Scipy is just a collection of additional functions that typically use the numpy array"
   ]
  },
  {
   "cell_type": "markdown",
   "metadata": {},
   "source": [
    "- And there are Myriads of things you can do with them"
   ]
  },
  {
   "cell_type": "markdown",
   "metadata": {},
   "source": [
    "- Instead of me explaining how to use them, we will figure them out ourselves!"
   ]
  },
  {
   "cell_type": "markdown",
   "metadata": {},
   "source": [
    "### I can't show them all to you, but I will show you two examples"
   ]
  },
  {
   "cell_type": "markdown",
   "metadata": {},
   "source": [
    "#### 1.) Interpolation"
   ]
  },
  {
   "cell_type": "code",
   "execution_count": null,
   "metadata": {
    "collapsed": true
   },
   "outputs": [],
   "source": [
    "# An example\n",
    "import matplotlib.pyplot as plt\n",
    "from scipy import interpolate\n",
    "%matplotlib inline\n",
    "x = np.arange(0, 10)\n",
    "y = np.exp(-x/3.0)\n",
    "f = interpolate.interp1d(x, y) #creates an interpolation function object to use"
   ]
  },
  {
   "cell_type": "code",
   "execution_count": null,
   "metadata": {
    "collapsed": true
   },
   "outputs": [],
   "source": [
    "xnew = np.arange(0, 9, 0.1)\n",
    "ynew = f(xnew)   # use interpolation function returned by `interp1d`\n",
    "plt.plot(x, y, 'o', xnew, ynew, '-')\n",
    "plt.show()"
   ]
  },
  {
   "cell_type": "markdown",
   "metadata": {},
   "source": [
    "#### 2.) Optimization"
   ]
  },
  {
   "cell_type": "code",
   "execution_count": null,
   "metadata": {
    "collapsed": true
   },
   "outputs": [],
   "source": [
    "from scipy.optimize import minimize\n",
    "\n",
    "# creating a function of two variables\n",
    "fun = lambda x: (x[0] - 1)**2 + (x[1] - 2.5)**2\n",
    "\n",
    "# and some constraints\n",
    "cons = ({'type': 'ineq', 'fun': lambda x:  x[0] - 2 * x[1] + 2},\n",
    "        {'type': 'ineq', 'fun': lambda x: -x[0] - 2 * x[1] + 6},\n",
    "        {'type': 'ineq', 'fun': lambda x: -x[0] + 2 * x[1] + 2})\n",
    "#and some boundaries\n",
    "bnds = ((0, None), (0, None))"
   ]
  },
  {
   "cell_type": "code",
   "execution_count": null,
   "metadata": {
    "collapsed": true
   },
   "outputs": [],
   "source": [
    "res = minimize(fun, (2, 0), method='SLSQP', bounds=bnds,\n",
    "               constraints=cons)\n"
   ]
  },
  {
   "cell_type": "code",
   "execution_count": null,
   "metadata": {},
   "outputs": [],
   "source": [
    "res.x\n"
   ]
  },
  {
   "cell_type": "markdown",
   "metadata": {},
   "source": [
    "#### Scipy has bunches of subpackages to check out:\n",
    "\n",
    "https://docs.scipy.org/doc/scipy-1.1.0/reference/\n",
    "\n",
    "Including Spatial, Image Processing, Linear Algebra(with sparse for big datasets), Signal Processing, the list goes on"
   ]
  },
  {
   "cell_type": "markdown",
   "metadata": {},
   "source": [
    "## Activity 1: Function/ method show and tell\n",
    "I am going to give each group a bunch of methods and functions, and they will have 15 minutes to create some  examples, and come up to the class to present them"
   ]
  },
  {
   "cell_type": "code",
   "execution_count": null,
   "metadata": {
    "collapsed": true
   },
   "outputs": [],
   "source": []
  },
  {
   "cell_type": "code",
   "execution_count": null,
   "metadata": {
    "collapsed": true
   },
   "outputs": [],
   "source": []
  },
  {
   "cell_type": "code",
   "execution_count": null,
   "metadata": {
    "collapsed": true
   },
   "outputs": [],
   "source": []
  },
  {
   "cell_type": "markdown",
   "metadata": {},
   "source": [
    "## Activity 2: Some crackin Numpy Puzzles\n"
   ]
  },
  {
   "cell_type": "markdown",
   "metadata": {},
   "source": [
    "**4.1** Create a 8x8 matrix of zeros and fill it with a checkerboard pattern of ones"
   ]
  },
  {
   "cell_type": "code",
   "execution_count": null,
   "metadata": {
    "collapsed": true
   },
   "outputs": [],
   "source": []
  },
  {
   "cell_type": "markdown",
   "metadata": {},
   "source": [
    "**4.2** Consider a random 10x2 matrix representing cartesian coordinates, convert them to polar coordinates"
   ]
  },
  {
   "cell_type": "code",
   "execution_count": null,
   "metadata": {
    "collapsed": true
   },
   "outputs": [],
   "source": []
  },
  {
   "cell_type": "markdown",
   "metadata": {},
   "source": [
    "**4.3** Create a 2d array with 1 on the border and 0 inside"
   ]
  },
  {
   "cell_type": "code",
   "execution_count": null,
   "metadata": {
    "collapsed": true
   },
   "outputs": [],
   "source": []
  },
  {
   "cell_type": "markdown",
   "metadata": {},
   "source": [
    "## Activity 3: You are welcome Telstra, we are doing your work for you\n",
    "\n",
    "We are going to be given 1000 coordinate positions of homes, and we need to know the straight line distance from these positions to a set of coordinates for the Cell phone towers in the area to assess how good the coverage is\n",
    "\n",
    "** Hint** this is a good place to practice your broadcasting skills"
   ]
  },
  {
   "cell_type": "code",
   "execution_count": null,
   "metadata": {
    "collapsed": true
   },
   "outputs": [],
   "source": [
    "Home_locations = np.random.randint(0,10000,size = (2,1000)) #a (2,1000) 2-D integer\n",
    "cell_towers = np.random.randint(0,10000,size = (2,10)) #a (2,10 ) 2 -d array the 2 rows pertain to x and y respectively"
   ]
  },
  {
   "cell_type": "code",
   "execution_count": null,
   "metadata": {
    "collapsed": true
   },
   "outputs": [],
   "source": [
    "# so first part of the calculations is to find X1-Y and X2-Y2 (the two rows in the first dim) broadcasting like:\n",
    "# Home locations: 2 x (1) x 1000 *note axis in parenthesis added by new axis\n",
    "# Cell Towers:    2 x 10  x (1)\n"
   ]
  },
  {
   "cell_type": "code",
   "execution_count": null,
   "metadata": {
    "collapsed": true
   },
   "outputs": [],
   "source": [
    "# euclidean distance = sqrt((x1-y1)**2 +(y1-y2)**2)\n",
    "# here we are squaring our (x1-x2) diff[0,:,:] and our (y1-y2) or diff[1,:,:] then summing them along the 0th axis \n",
    "# then we are taking that sum and square rooting it\n"
   ]
  },
  {
   "cell_type": "code",
   "execution_count": null,
   "metadata": {
    "collapsed": true
   },
   "outputs": [],
   "source": [
    "#Arg min is grabbing the index (along axis 0) of the lowest distance, vis a vis the closest station\n",
    "\n"
   ]
  },
  {
   "cell_type": "code",
   "execution_count": null,
   "metadata": {
    "collapsed": true
   },
   "outputs": [],
   "source": [
    "  #This data set would be much better as a Pandas dataframe fyi"
   ]
  }
 ],
 "metadata": {
  "kernelspec": {
   "display_name": "Python 3",
   "language": "python",
   "name": "python3"
  },
  "language_info": {
   "codemirror_mode": {
    "name": "ipython",
    "version": 3
   },
   "file_extension": ".py",
   "mimetype": "text/x-python",
   "name": "python",
   "nbconvert_exporter": "python",
   "pygments_lexer": "ipython3",
   "version": "3.7.3"
  },
  "toc": {
   "colors": {
    "hover_highlight": "#DAA520",
    "navigate_num": "#000000",
    "navigate_text": "#333333",
    "running_highlight": "#FF0000",
    "selected_highlight": "#FFD700",
    "sidebar_border": "#EEEEEE",
    "wrapper_background": "#FFFFFF"
   },
   "moveMenuLeft": true,
   "nav_menu": {
    "height": "288px",
    "width": "252px"
   },
   "navigate_menu": true,
   "number_sections": false,
   "sideBar": false,
   "threshold": 4,
   "toc_cell": false,
   "toc_position": {
    "height": "40px",
    "left": "630.135px",
    "right": "20px",
    "top": "66px",
    "width": "241px"
   },
   "toc_section_display": "none",
   "toc_window_display": true,
   "widenNotebook": false
  },
  "varInspector": {
   "cols": {
    "lenName": 16,
    "lenType": 16,
    "lenVar": 40
   },
   "kernels_config": {
    "python": {
     "delete_cmd_postfix": "",
     "delete_cmd_prefix": "del ",
     "library": "var_list.py",
     "varRefreshCmd": "print(var_dic_list())"
    },
    "r": {
     "delete_cmd_postfix": ") ",
     "delete_cmd_prefix": "rm(",
     "library": "var_list.r",
     "varRefreshCmd": "cat(var_dic_list()) "
    }
   },
   "types_to_exclude": [
    "module",
    "function",
    "builtin_function_or_method",
    "instance",
    "_Feature"
   ],
   "window_display": false
  }
 },
 "nbformat": 4,
 "nbformat_minor": 2
}
